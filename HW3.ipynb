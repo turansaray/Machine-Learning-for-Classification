{
 "cells": [
  {
   "cell_type": "code",
   "execution_count": 3,
   "source": [
    "import pandas as pd\n",
    "import numpy as np\n",
    "\n",
    "df = pd.read_csv('AB_NYC_2019.csv')\n",
    "\n",
    "df = df[['neighbourhood_group',\n",
    "'room_type',\n",
    "'latitude',\n",
    "'longitude',\n",
    "'price',\n",
    "'minimum_nights',\n",
    "'number_of_reviews',\n",
    "'reviews_per_month',\n",
    "'calculated_host_listings_count',\n",
    "'availability_365']]\n",
    "\n",
    "df.head()"
   ],
   "outputs": [
    {
     "output_type": "execute_result",
     "data": {
      "text/html": [
       "<div>\n",
       "<style scoped>\n",
       "    .dataframe tbody tr th:only-of-type {\n",
       "        vertical-align: middle;\n",
       "    }\n",
       "\n",
       "    .dataframe tbody tr th {\n",
       "        vertical-align: top;\n",
       "    }\n",
       "\n",
       "    .dataframe thead th {\n",
       "        text-align: right;\n",
       "    }\n",
       "</style>\n",
       "<table border=\"1\" class=\"dataframe\">\n",
       "  <thead>\n",
       "    <tr style=\"text-align: right;\">\n",
       "      <th></th>\n",
       "      <th>neighbourhood_group</th>\n",
       "      <th>room_type</th>\n",
       "      <th>latitude</th>\n",
       "      <th>longitude</th>\n",
       "      <th>price</th>\n",
       "      <th>minimum_nights</th>\n",
       "      <th>number_of_reviews</th>\n",
       "      <th>reviews_per_month</th>\n",
       "      <th>calculated_host_listings_count</th>\n",
       "      <th>availability_365</th>\n",
       "    </tr>\n",
       "  </thead>\n",
       "  <tbody>\n",
       "    <tr>\n",
       "      <th>0</th>\n",
       "      <td>Brooklyn</td>\n",
       "      <td>Private room</td>\n",
       "      <td>40.64749</td>\n",
       "      <td>-73.97237</td>\n",
       "      <td>149</td>\n",
       "      <td>1</td>\n",
       "      <td>9</td>\n",
       "      <td>0.21</td>\n",
       "      <td>6</td>\n",
       "      <td>365</td>\n",
       "    </tr>\n",
       "    <tr>\n",
       "      <th>1</th>\n",
       "      <td>Manhattan</td>\n",
       "      <td>Entire home/apt</td>\n",
       "      <td>40.75362</td>\n",
       "      <td>-73.98377</td>\n",
       "      <td>225</td>\n",
       "      <td>1</td>\n",
       "      <td>45</td>\n",
       "      <td>0.38</td>\n",
       "      <td>2</td>\n",
       "      <td>355</td>\n",
       "    </tr>\n",
       "    <tr>\n",
       "      <th>2</th>\n",
       "      <td>Manhattan</td>\n",
       "      <td>Private room</td>\n",
       "      <td>40.80902</td>\n",
       "      <td>-73.94190</td>\n",
       "      <td>150</td>\n",
       "      <td>3</td>\n",
       "      <td>0</td>\n",
       "      <td>NaN</td>\n",
       "      <td>1</td>\n",
       "      <td>365</td>\n",
       "    </tr>\n",
       "    <tr>\n",
       "      <th>3</th>\n",
       "      <td>Brooklyn</td>\n",
       "      <td>Entire home/apt</td>\n",
       "      <td>40.68514</td>\n",
       "      <td>-73.95976</td>\n",
       "      <td>89</td>\n",
       "      <td>1</td>\n",
       "      <td>270</td>\n",
       "      <td>4.64</td>\n",
       "      <td>1</td>\n",
       "      <td>194</td>\n",
       "    </tr>\n",
       "    <tr>\n",
       "      <th>4</th>\n",
       "      <td>Manhattan</td>\n",
       "      <td>Entire home/apt</td>\n",
       "      <td>40.79851</td>\n",
       "      <td>-73.94399</td>\n",
       "      <td>80</td>\n",
       "      <td>10</td>\n",
       "      <td>9</td>\n",
       "      <td>0.10</td>\n",
       "      <td>1</td>\n",
       "      <td>0</td>\n",
       "    </tr>\n",
       "  </tbody>\n",
       "</table>\n",
       "</div>"
      ],
      "text/plain": [
       "  neighbourhood_group        room_type  latitude  longitude  price  \\\n",
       "0            Brooklyn     Private room  40.64749  -73.97237    149   \n",
       "1           Manhattan  Entire home/apt  40.75362  -73.98377    225   \n",
       "2           Manhattan     Private room  40.80902  -73.94190    150   \n",
       "3            Brooklyn  Entire home/apt  40.68514  -73.95976     89   \n",
       "4           Manhattan  Entire home/apt  40.79851  -73.94399     80   \n",
       "\n",
       "   minimum_nights  number_of_reviews  reviews_per_month  \\\n",
       "0               1                  9               0.21   \n",
       "1               1                 45               0.38   \n",
       "2               3                  0                NaN   \n",
       "3               1                270               4.64   \n",
       "4              10                  9               0.10   \n",
       "\n",
       "   calculated_host_listings_count  availability_365  \n",
       "0                               6               365  \n",
       "1                               2               355  \n",
       "2                               1               365  \n",
       "3                               1               194  \n",
       "4                               1                 0  "
      ]
     },
     "metadata": {},
     "execution_count": 3
    }
   ],
   "metadata": {}
  },
  {
   "cell_type": "code",
   "execution_count": 4,
   "source": [
    "df.isnull().sum()"
   ],
   "outputs": [
    {
     "output_type": "execute_result",
     "data": {
      "text/plain": [
       "neighbourhood_group                   0\n",
       "room_type                             0\n",
       "latitude                              0\n",
       "longitude                             0\n",
       "price                                 0\n",
       "minimum_nights                        0\n",
       "number_of_reviews                     0\n",
       "reviews_per_month                 10052\n",
       "calculated_host_listings_count        0\n",
       "availability_365                      0\n",
       "dtype: int64"
      ]
     },
     "metadata": {},
     "execution_count": 4
    }
   ],
   "metadata": {}
  },
  {
   "cell_type": "code",
   "execution_count": 5,
   "source": [
    "df = df.fillna(0)"
   ],
   "outputs": [],
   "metadata": {}
  },
  {
   "cell_type": "markdown",
   "source": [
    "Question 1\n",
    "\n",
    "What is the most frequent observation (mode) for the column 'neighbourhood_group'?"
   ],
   "metadata": {}
  },
  {
   "cell_type": "code",
   "execution_count": 6,
   "source": [
    "df['neighbourhood_group'].mode()"
   ],
   "outputs": [
    {
     "output_type": "execute_result",
     "data": {
      "text/plain": [
       "0    Manhattan\n",
       "dtype: object"
      ]
     },
     "metadata": {},
     "execution_count": 6
    }
   ],
   "metadata": {}
  },
  {
   "cell_type": "markdown",
   "source": [
    "Split the data\n",
    "\n",
    "Split your data in train/val/test sets, with 60%/20%/20% distribution.\n",
    "Use Scikit-Learn for that (the train_test_split function) and set the seed to 42.\n",
    "Make sure that the target value ('price') is not in your dataframe."
   ],
   "metadata": {}
  },
  {
   "cell_type": "code",
   "execution_count": 7,
   "source": [
    "from sklearn.model_selection import train_test_split\n",
    "\n",
    "df_full_train, df_test = train_test_split(df, test_size=0.2, random_state=42)\n",
    "df_train, df_val = train_test_split(df_full_train, test_size=0.25, random_state=42)\n",
    "\n",
    "df_train = df_train.reset_index(drop=True)\n",
    "df_val = df_val.reset_index(drop=True)\n",
    "df_test = df_test.reset_index(drop=True)\n",
    "\n",
    "# y_train = df_train[['price']]\n",
    "# y_val = df_val[['price']]\n",
    "# y_test = df_test[['price']]\n",
    "\n",
    "y_train = df_train.price.values\n",
    "y_val = df_val.price.values\n",
    "y_test = df_test.price.values\n",
    "\n",
    "del df_train['price']\n",
    "del df_val['price']\n",
    "del df_test['price']"
   ],
   "outputs": [],
   "metadata": {}
  },
  {
   "cell_type": "markdown",
   "source": [
    "Question 2\n",
    "\n",
    "Create the correlation matrix for the numerical features of your train dataset.\n",
    "In a correlation matrix, you compute the correlation coefficient between every pair of features in the dataset.\n",
    "What are the two features that have the biggest correlation in this dataset?"
   ],
   "metadata": {}
  },
  {
   "cell_type": "code",
   "execution_count": 8,
   "source": [
    "df_train.dtypes"
   ],
   "outputs": [
    {
     "output_type": "execute_result",
     "data": {
      "text/plain": [
       "neighbourhood_group                object\n",
       "room_type                          object\n",
       "latitude                          float64\n",
       "longitude                         float64\n",
       "minimum_nights                      int64\n",
       "number_of_reviews                   int64\n",
       "reviews_per_month                 float64\n",
       "calculated_host_listings_count      int64\n",
       "availability_365                    int64\n",
       "dtype: object"
      ]
     },
     "metadata": {},
     "execution_count": 8
    }
   ],
   "metadata": {}
  },
  {
   "cell_type": "code",
   "execution_count": 9,
   "source": [
    "numeric = list(df_train.select_dtypes(['float64', 'int64']).columns)\n",
    "numeric"
   ],
   "outputs": [
    {
     "output_type": "execute_result",
     "data": {
      "text/plain": [
       "['latitude',\n",
       " 'longitude',\n",
       " 'minimum_nights',\n",
       " 'number_of_reviews',\n",
       " 'reviews_per_month',\n",
       " 'calculated_host_listings_count',\n",
       " 'availability_365']"
      ]
     },
     "metadata": {},
     "execution_count": 9
    }
   ],
   "metadata": {}
  },
  {
   "cell_type": "code",
   "execution_count": 10,
   "source": [
    "categoric = list(df_train.select_dtypes(['object']).columns)\n",
    "categoric"
   ],
   "outputs": [
    {
     "output_type": "execute_result",
     "data": {
      "text/plain": [
       "['neighbourhood_group', 'room_type']"
      ]
     },
     "metadata": {},
     "execution_count": 10
    }
   ],
   "metadata": {}
  },
  {
   "cell_type": "code",
   "execution_count": 11,
   "source": [
    "corr = df_train[numeric].corr()\n",
    "corr"
   ],
   "outputs": [
    {
     "output_type": "execute_result",
     "data": {
      "text/html": [
       "<div>\n",
       "<style scoped>\n",
       "    .dataframe tbody tr th:only-of-type {\n",
       "        vertical-align: middle;\n",
       "    }\n",
       "\n",
       "    .dataframe tbody tr th {\n",
       "        vertical-align: top;\n",
       "    }\n",
       "\n",
       "    .dataframe thead th {\n",
       "        text-align: right;\n",
       "    }\n",
       "</style>\n",
       "<table border=\"1\" class=\"dataframe\">\n",
       "  <thead>\n",
       "    <tr style=\"text-align: right;\">\n",
       "      <th></th>\n",
       "      <th>latitude</th>\n",
       "      <th>longitude</th>\n",
       "      <th>minimum_nights</th>\n",
       "      <th>number_of_reviews</th>\n",
       "      <th>reviews_per_month</th>\n",
       "      <th>calculated_host_listings_count</th>\n",
       "      <th>availability_365</th>\n",
       "    </tr>\n",
       "  </thead>\n",
       "  <tbody>\n",
       "    <tr>\n",
       "      <th>latitude</th>\n",
       "      <td>1.000000</td>\n",
       "      <td>0.080301</td>\n",
       "      <td>0.027441</td>\n",
       "      <td>-0.006246</td>\n",
       "      <td>-0.007159</td>\n",
       "      <td>0.019375</td>\n",
       "      <td>-0.005891</td>\n",
       "    </tr>\n",
       "    <tr>\n",
       "      <th>longitude</th>\n",
       "      <td>0.080301</td>\n",
       "      <td>1.000000</td>\n",
       "      <td>-0.060660</td>\n",
       "      <td>0.055084</td>\n",
       "      <td>0.134642</td>\n",
       "      <td>-0.117041</td>\n",
       "      <td>0.083666</td>\n",
       "    </tr>\n",
       "    <tr>\n",
       "      <th>minimum_nights</th>\n",
       "      <td>0.027441</td>\n",
       "      <td>-0.060660</td>\n",
       "      <td>1.000000</td>\n",
       "      <td>-0.076020</td>\n",
       "      <td>-0.120703</td>\n",
       "      <td>0.118647</td>\n",
       "      <td>0.138901</td>\n",
       "    </tr>\n",
       "    <tr>\n",
       "      <th>number_of_reviews</th>\n",
       "      <td>-0.006246</td>\n",
       "      <td>0.055084</td>\n",
       "      <td>-0.076020</td>\n",
       "      <td>1.000000</td>\n",
       "      <td>0.590374</td>\n",
       "      <td>-0.073167</td>\n",
       "      <td>0.174477</td>\n",
       "    </tr>\n",
       "    <tr>\n",
       "      <th>reviews_per_month</th>\n",
       "      <td>-0.007159</td>\n",
       "      <td>0.134642</td>\n",
       "      <td>-0.120703</td>\n",
       "      <td>0.590374</td>\n",
       "      <td>1.000000</td>\n",
       "      <td>-0.048767</td>\n",
       "      <td>0.165376</td>\n",
       "    </tr>\n",
       "    <tr>\n",
       "      <th>calculated_host_listings_count</th>\n",
       "      <td>0.019375</td>\n",
       "      <td>-0.117041</td>\n",
       "      <td>0.118647</td>\n",
       "      <td>-0.073167</td>\n",
       "      <td>-0.048767</td>\n",
       "      <td>1.000000</td>\n",
       "      <td>0.225913</td>\n",
       "    </tr>\n",
       "    <tr>\n",
       "      <th>availability_365</th>\n",
       "      <td>-0.005891</td>\n",
       "      <td>0.083666</td>\n",
       "      <td>0.138901</td>\n",
       "      <td>0.174477</td>\n",
       "      <td>0.165376</td>\n",
       "      <td>0.225913</td>\n",
       "      <td>1.000000</td>\n",
       "    </tr>\n",
       "  </tbody>\n",
       "</table>\n",
       "</div>"
      ],
      "text/plain": [
       "                                latitude  longitude  minimum_nights  \\\n",
       "latitude                        1.000000   0.080301        0.027441   \n",
       "longitude                       0.080301   1.000000       -0.060660   \n",
       "minimum_nights                  0.027441  -0.060660        1.000000   \n",
       "number_of_reviews              -0.006246   0.055084       -0.076020   \n",
       "reviews_per_month              -0.007159   0.134642       -0.120703   \n",
       "calculated_host_listings_count  0.019375  -0.117041        0.118647   \n",
       "availability_365               -0.005891   0.083666        0.138901   \n",
       "\n",
       "                                number_of_reviews  reviews_per_month  \\\n",
       "latitude                                -0.006246          -0.007159   \n",
       "longitude                                0.055084           0.134642   \n",
       "minimum_nights                          -0.076020          -0.120703   \n",
       "number_of_reviews                        1.000000           0.590374   \n",
       "reviews_per_month                        0.590374           1.000000   \n",
       "calculated_host_listings_count          -0.073167          -0.048767   \n",
       "availability_365                         0.174477           0.165376   \n",
       "\n",
       "                                calculated_host_listings_count  \\\n",
       "latitude                                              0.019375   \n",
       "longitude                                            -0.117041   \n",
       "minimum_nights                                        0.118647   \n",
       "number_of_reviews                                    -0.073167   \n",
       "reviews_per_month                                    -0.048767   \n",
       "calculated_host_listings_count                        1.000000   \n",
       "availability_365                                      0.225913   \n",
       "\n",
       "                                availability_365  \n",
       "latitude                               -0.005891  \n",
       "longitude                               0.083666  \n",
       "minimum_nights                          0.138901  \n",
       "number_of_reviews                       0.174477  \n",
       "reviews_per_month                       0.165376  \n",
       "calculated_host_listings_count          0.225913  \n",
       "availability_365                        1.000000  "
      ]
     },
     "metadata": {},
     "execution_count": 11
    }
   ],
   "metadata": {}
  },
  {
   "cell_type": "code",
   "execution_count": 12,
   "source": [
    "df_full_train = df_full_train.reset_index(drop=True)\n",
    "df_full_train['above_average'] = df_full_train.price >= 152\n",
    "df_full_train\n",
    "# def make_binary(df):\n",
    "#     df_full_train['above_average'] = (df.price >=152).astype(int)\n",
    "\n",
    "# for i in [y_train, y_val, y_test]:\n",
    "#     make_binary(i)\n",
    "\n",
    "# y_train = y_train.above_average.values\n",
    "# y_val = y_val.above_average.values\n",
    "# y_test = y_test.above_average.values"
   ],
   "outputs": [
    {
     "output_type": "execute_result",
     "data": {
      "text/html": [
       "<div>\n",
       "<style scoped>\n",
       "    .dataframe tbody tr th:only-of-type {\n",
       "        vertical-align: middle;\n",
       "    }\n",
       "\n",
       "    .dataframe tbody tr th {\n",
       "        vertical-align: top;\n",
       "    }\n",
       "\n",
       "    .dataframe thead th {\n",
       "        text-align: right;\n",
       "    }\n",
       "</style>\n",
       "<table border=\"1\" class=\"dataframe\">\n",
       "  <thead>\n",
       "    <tr style=\"text-align: right;\">\n",
       "      <th></th>\n",
       "      <th>neighbourhood_group</th>\n",
       "      <th>room_type</th>\n",
       "      <th>latitude</th>\n",
       "      <th>longitude</th>\n",
       "      <th>price</th>\n",
       "      <th>minimum_nights</th>\n",
       "      <th>number_of_reviews</th>\n",
       "      <th>reviews_per_month</th>\n",
       "      <th>calculated_host_listings_count</th>\n",
       "      <th>availability_365</th>\n",
       "      <th>above_average</th>\n",
       "    </tr>\n",
       "  </thead>\n",
       "  <tbody>\n",
       "    <tr>\n",
       "      <th>0</th>\n",
       "      <td>Brooklyn</td>\n",
       "      <td>Entire home/apt</td>\n",
       "      <td>40.71577</td>\n",
       "      <td>-73.95530</td>\n",
       "      <td>295</td>\n",
       "      <td>3</td>\n",
       "      <td>11</td>\n",
       "      <td>0.87</td>\n",
       "      <td>1</td>\n",
       "      <td>1</td>\n",
       "      <td>True</td>\n",
       "    </tr>\n",
       "    <tr>\n",
       "      <th>1</th>\n",
       "      <td>Manhattan</td>\n",
       "      <td>Private room</td>\n",
       "      <td>40.84917</td>\n",
       "      <td>-73.94048</td>\n",
       "      <td>70</td>\n",
       "      <td>2</td>\n",
       "      <td>2</td>\n",
       "      <td>0.16</td>\n",
       "      <td>1</td>\n",
       "      <td>0</td>\n",
       "      <td>False</td>\n",
       "    </tr>\n",
       "    <tr>\n",
       "      <th>2</th>\n",
       "      <td>Brooklyn</td>\n",
       "      <td>Private room</td>\n",
       "      <td>40.68993</td>\n",
       "      <td>-73.95947</td>\n",
       "      <td>58</td>\n",
       "      <td>2</td>\n",
       "      <td>0</td>\n",
       "      <td>0.00</td>\n",
       "      <td>2</td>\n",
       "      <td>0</td>\n",
       "      <td>False</td>\n",
       "    </tr>\n",
       "    <tr>\n",
       "      <th>3</th>\n",
       "      <td>Brooklyn</td>\n",
       "      <td>Entire home/apt</td>\n",
       "      <td>40.68427</td>\n",
       "      <td>-73.93118</td>\n",
       "      <td>75</td>\n",
       "      <td>3</td>\n",
       "      <td>87</td>\n",
       "      <td>4.91</td>\n",
       "      <td>1</td>\n",
       "      <td>267</td>\n",
       "      <td>False</td>\n",
       "    </tr>\n",
       "    <tr>\n",
       "      <th>4</th>\n",
       "      <td>Queens</td>\n",
       "      <td>Private room</td>\n",
       "      <td>40.74705</td>\n",
       "      <td>-73.89564</td>\n",
       "      <td>38</td>\n",
       "      <td>5</td>\n",
       "      <td>13</td>\n",
       "      <td>0.25</td>\n",
       "      <td>1</td>\n",
       "      <td>0</td>\n",
       "      <td>False</td>\n",
       "    </tr>\n",
       "    <tr>\n",
       "      <th>...</th>\n",
       "      <td>...</td>\n",
       "      <td>...</td>\n",
       "      <td>...</td>\n",
       "      <td>...</td>\n",
       "      <td>...</td>\n",
       "      <td>...</td>\n",
       "      <td>...</td>\n",
       "      <td>...</td>\n",
       "      <td>...</td>\n",
       "      <td>...</td>\n",
       "      <td>...</td>\n",
       "    </tr>\n",
       "    <tr>\n",
       "      <th>39111</th>\n",
       "      <td>Manhattan</td>\n",
       "      <td>Shared room</td>\n",
       "      <td>40.84650</td>\n",
       "      <td>-73.94319</td>\n",
       "      <td>60</td>\n",
       "      <td>1</td>\n",
       "      <td>0</td>\n",
       "      <td>0.00</td>\n",
       "      <td>1</td>\n",
       "      <td>0</td>\n",
       "      <td>False</td>\n",
       "    </tr>\n",
       "    <tr>\n",
       "      <th>39112</th>\n",
       "      <td>Manhattan</td>\n",
       "      <td>Private room</td>\n",
       "      <td>40.73957</td>\n",
       "      <td>-74.00082</td>\n",
       "      <td>85</td>\n",
       "      <td>2</td>\n",
       "      <td>4</td>\n",
       "      <td>1.90</td>\n",
       "      <td>1</td>\n",
       "      <td>76</td>\n",
       "      <td>False</td>\n",
       "    </tr>\n",
       "    <tr>\n",
       "      <th>39113</th>\n",
       "      <td>Manhattan</td>\n",
       "      <td>Entire home/apt</td>\n",
       "      <td>40.78318</td>\n",
       "      <td>-73.97372</td>\n",
       "      <td>130</td>\n",
       "      <td>30</td>\n",
       "      <td>1</td>\n",
       "      <td>0.34</td>\n",
       "      <td>5</td>\n",
       "      <td>261</td>\n",
       "      <td>False</td>\n",
       "    </tr>\n",
       "    <tr>\n",
       "      <th>39114</th>\n",
       "      <td>Manhattan</td>\n",
       "      <td>Entire home/apt</td>\n",
       "      <td>40.77508</td>\n",
       "      <td>-73.97990</td>\n",
       "      <td>150</td>\n",
       "      <td>2</td>\n",
       "      <td>11</td>\n",
       "      <td>0.13</td>\n",
       "      <td>1</td>\n",
       "      <td>2</td>\n",
       "      <td>False</td>\n",
       "    </tr>\n",
       "    <tr>\n",
       "      <th>39115</th>\n",
       "      <td>Queens</td>\n",
       "      <td>Entire home/apt</td>\n",
       "      <td>40.74657</td>\n",
       "      <td>-73.94555</td>\n",
       "      <td>120</td>\n",
       "      <td>5</td>\n",
       "      <td>1</td>\n",
       "      <td>0.03</td>\n",
       "      <td>1</td>\n",
       "      <td>0</td>\n",
       "      <td>False</td>\n",
       "    </tr>\n",
       "  </tbody>\n",
       "</table>\n",
       "<p>39116 rows × 11 columns</p>\n",
       "</div>"
      ],
      "text/plain": [
       "      neighbourhood_group        room_type  latitude  longitude  price  \\\n",
       "0                Brooklyn  Entire home/apt  40.71577  -73.95530    295   \n",
       "1               Manhattan     Private room  40.84917  -73.94048     70   \n",
       "2                Brooklyn     Private room  40.68993  -73.95947     58   \n",
       "3                Brooklyn  Entire home/apt  40.68427  -73.93118     75   \n",
       "4                  Queens     Private room  40.74705  -73.89564     38   \n",
       "...                   ...              ...       ...        ...    ...   \n",
       "39111           Manhattan      Shared room  40.84650  -73.94319     60   \n",
       "39112           Manhattan     Private room  40.73957  -74.00082     85   \n",
       "39113           Manhattan  Entire home/apt  40.78318  -73.97372    130   \n",
       "39114           Manhattan  Entire home/apt  40.77508  -73.97990    150   \n",
       "39115              Queens  Entire home/apt  40.74657  -73.94555    120   \n",
       "\n",
       "       minimum_nights  number_of_reviews  reviews_per_month  \\\n",
       "0                   3                 11               0.87   \n",
       "1                   2                  2               0.16   \n",
       "2                   2                  0               0.00   \n",
       "3                   3                 87               4.91   \n",
       "4                   5                 13               0.25   \n",
       "...               ...                ...                ...   \n",
       "39111               1                  0               0.00   \n",
       "39112               2                  4               1.90   \n",
       "39113              30                  1               0.34   \n",
       "39114               2                 11               0.13   \n",
       "39115               5                  1               0.03   \n",
       "\n",
       "       calculated_host_listings_count  availability_365  above_average  \n",
       "0                                   1                 1           True  \n",
       "1                                   1                 0          False  \n",
       "2                                   2                 0          False  \n",
       "3                                   1               267          False  \n",
       "4                                   1                 0          False  \n",
       "...                               ...               ...            ...  \n",
       "39111                               1                 0          False  \n",
       "39112                               1                76          False  \n",
       "39113                               5               261          False  \n",
       "39114                               1                 2          False  \n",
       "39115                               1                 0          False  \n",
       "\n",
       "[39116 rows x 11 columns]"
      ]
     },
     "metadata": {},
     "execution_count": 12
    }
   ],
   "metadata": {}
  },
  {
   "cell_type": "markdown",
   "source": [
    "Question 3\n",
    "\n",
    "Calculate the mutual information score with the (binarized) price for the two categorical variables that we have. Use the training set only.\n",
    "Which of these two variables has bigger score?\n",
    "Round it to 2 decimal digits using round(score, 2)"
   ],
   "metadata": {}
  },
  {
   "cell_type": "code",
   "execution_count": 13,
   "source": [
    "from sklearn.metrics import mutual_info_score\n",
    "\n",
    "def mutual_info_above_average(series):\n",
    "    return mutual_info_score(series, df_full_train.above_average)\n",
    "\n",
    "mi = df_full_train[categoric].apply(mutual_info_above_average)\n",
    "mi.sort_values(ascending = False).round(2)"
   ],
   "outputs": [
    {
     "output_type": "execute_result",
     "data": {
      "text/plain": [
       "room_type              0.14\n",
       "neighbourhood_group    0.05\n",
       "dtype: float64"
      ]
     },
     "metadata": {},
     "execution_count": 13
    }
   ],
   "metadata": {}
  },
  {
   "cell_type": "markdown",
   "source": [
    "Question 4\n",
    "\n",
    "Now let's train a logistic regression\n",
    "Remember that we have two categorical variables in the data. Include them using one-hot encoding.\n",
    "Fit the model on the training dataset.\n",
    "To make sure the results are reproducible across different versions of Scikit-Learn, fit the model with these parameters:\n",
    "model = LogisticRegression(solver='lbfgs', C=1.0, random_state=42)\n",
    "Calculate the accuracy on the validation dataset and rount it to 2 decimal digits."
   ],
   "metadata": {}
  },
  {
   "cell_type": "code",
   "execution_count": 14,
   "source": [
    "from sklearn.feature_extraction import DictVectorizer\n",
    "\n",
    "dv = DictVectorizer(sparse=False)\n",
    "\n",
    "train_dict = df_train[categoric + numeric].to_dict(orient='records')\n",
    "X_train = dv.fit_transform(train_dict)\n",
    "\n",
    "val_dict = df_val[categoric + numeric].to_dict(orient='records')\n",
    "X_val = dv.transform(val_dict)"
   ],
   "outputs": [],
   "metadata": {}
  },
  {
   "cell_type": "code",
   "execution_count": 15,
   "source": [
    "y_train_binary = (y_train >= 152).astype(int)\n",
    "y_val_binary = (y_val >= 152).astype(int)\n",
    "y_test_binary = (y_test >= 152).astype(int)"
   ],
   "outputs": [],
   "metadata": {}
  },
  {
   "cell_type": "code",
   "execution_count": 16,
   "source": [
    "from sklearn.linear_model import LogisticRegression\n",
    "\n",
    "model = LogisticRegression(solver='liblinear', C=1.0, random_state=42)\n",
    "model.fit(X_train, y_train_binary)"
   ],
   "outputs": [
    {
     "output_type": "execute_result",
     "data": {
      "text/plain": [
       "LogisticRegression(random_state=42, solver='liblinear')"
      ]
     },
     "metadata": {},
     "execution_count": 16
    }
   ],
   "metadata": {}
  },
  {
   "cell_type": "code",
   "execution_count": 37,
   "source": [
    "y_pred = model.predict_proba(X_val)[:, 1]\n",
    "above_avg = (y_pred >= 0.5).astype(int)\n",
    "\n",
    "accuracy = round((y_val_binary == above_avg).mean(), 2)\n",
    "accuracy"
   ],
   "outputs": [
    {
     "output_type": "execute_result",
     "data": {
      "text/plain": [
       "0.79"
      ]
     },
     "metadata": {},
     "execution_count": 37
    }
   ],
   "metadata": {}
  },
  {
   "cell_type": "markdown",
   "source": [
    "We have 9 features: 7 numerical features and 2 categorical.\n",
    "Let's find the least useful one using the feature elimination technique.\n",
    "Train a model with all these features (using the same parameters as in Q4).\n",
    "Now exclude each feature from this set and train a model without it. Record the accuracy for each model.\n",
    "For each feature, calculate the difference between the original accuracy and the accuracy without the feature.\n",
    "Which of following feature has the smallest difference?\n",
    "neighbourhood_group\n",
    "room_type\n",
    "number_of_reviews\n",
    "reviews_per_month\n",
    "\n",
    "note: the difference doesn't have to be positive"
   ],
   "metadata": {}
  },
  {
   "cell_type": "code",
   "execution_count": 38,
   "source": [
    "features = categoric + numeric\n",
    "small = ['neighbourhood_group', 'room_type', 'number_of_reviews', 'reviews_per_month']\n",
    "\n",
    "def elimination(set):\n",
    "    train_dicts = df_train[set].to_dict(orient='records')\n",
    "    X_train = dv.fit_transform(train_dicts)\n",
    "\n",
    "    val_dicts = df_val[set].to_dict(orient='records')\n",
    "    X_val = dv.transform(val_dicts)\n",
    "    X_val.shape\n",
    "\n",
    "    model = LogisticRegression(solver='lbfgs', max_iter=10000, C=1.0, random_state=42)\n",
    "    model.fit(X_train, y_train)\n",
    "\n",
    "    y_pred = model.predict_proba(X_val)[:, 1]\n",
    "    price_decision = (y_pred >= 0.5)\n",
    "    accuracy = (y_val == price_decision).mean()\n",
    "  \n",
    "    return accuracy"
   ],
   "outputs": [],
   "metadata": {}
  },
  {
   "cell_type": "code",
   "execution_count": null,
   "source": [
    "from sklearn import *\n",
    "\n",
    "small = ['neighbourhood_group', 'room_type', 'number_of_reviews', 'reviews_per_month']\n",
    "\n",
    "for feature in range(len(small)):\n",
    "    df_train_small = df_train.drop(feature)\n",
    "    train_dict_small = df_train_small.to_dict(orient='records')\n",
    "\n",
    "    dv_small = DictVectorizer(sparse=False)\n",
    "    X_train_small = dv_small.fit_transform(train_dict_small)\n",
    "\n",
    "    model.fit(X_train, y_train_binary)\n",
    "\n",
    "    df_val_small = df_val.drop(feature)\n",
    "    val_dict_small = df_val_small.to_dict(orient = 'records')\n",
    "    X_val_small = dv_small.fit_transform(val_dict_small)\n",
    "\n",
    "    y_pred_small = model.predict(X_val_small)\n",
    "    above_avg_small = (y_pred_small >= 0.5)\n",
    "\n",
    "    accuracy_small = (y_val_binary == above_avg_small).mean()\n",
    "    diff_accuracy = abs(accuracy - accuracy_small)\n",
    "\n",
    "    print(\"Removing : \", feature, \" affects the result as: \", round(diff_accuracy, 3))"
   ],
   "outputs": [],
   "metadata": {}
  },
  {
   "cell_type": "markdown",
   "source": [
    "Question 6\n",
    "\n",
    "For this question, we'll see how to use a linear regression model from Scikit-Learn\n",
    "We'll need to use the original column 'price'. Apply the logarithmic transformation to this column.\n",
    "Fit the Ridge regression model on the training data.\n",
    "This model has a parameter alpha. Let's try the following values: [0, 0.01, 0.1, 1, 10]\n",
    "Which of these alphas leads to the best RMSE on the validation set? Round your RMSE scores to 3 decimal digits.\n",
    "If there are multiple options, select the smallest alpha."
   ],
   "metadata": {}
  },
  {
   "cell_type": "code",
   "execution_count": null,
   "source": [
    "y_train_log = np.log1p(y_train)\n",
    "y_val_log = np.log1p(y_val)\n",
    "y_test_log = np.log1p(y_test)"
   ],
   "outputs": [],
   "metadata": {}
  },
  {
   "cell_type": "code",
   "execution_count": null,
   "source": [
    "from sklearn.linear_model import Ridge\n",
    "from sklearn.metrics import mean_squared_error\n",
    "\n",
    "alpha = [0, 0.01, 0.1, 1, 10]\n",
    "\n",
    "for i in alpha:\n",
    "    initial_ridge = Ridge(alpha = i)\n",
    "    initial_ridge.fit(X_train, y_train_log)\n",
    "\n",
    "    y_pred_ridge = initial_ridge.predict(X_val)\n",
    "\n",
    "    rmse = np.sqrt(mean_squared_error(y_val_log, y_pred_ridge))\n",
    "\n",
    "    print('When alpha is ', i, 'the RMSE of the prediction is ', rmse.round(3))\n"
   ],
   "outputs": [
    {
     "output_type": "stream",
     "name": "stdout",
     "text": [
      "When alpha is  0 the RMSE of the prediction is  0.497\n",
      "When alpha is  0.01 the RMSE of the prediction is  0.497\n",
      "When alpha is  0.1 the RMSE of the prediction is  0.497\n",
      "When alpha is  1 the RMSE of the prediction is  0.497\n",
      "When alpha is  10 the RMSE of the prediction is  0.498\n"
     ]
    }
   ],
   "metadata": {}
  }
 ],
 "metadata": {
  "orig_nbformat": 4,
  "language_info": {
   "name": "python",
   "version": "3.8.11",
   "mimetype": "text/x-python",
   "codemirror_mode": {
    "name": "ipython",
    "version": 3
   },
   "pygments_lexer": "ipython3",
   "nbconvert_exporter": "python",
   "file_extension": ".py"
  },
  "kernelspec": {
   "name": "python3",
   "display_name": "Python 3.8.11 64-bit ('ml-zoomcamp': conda)"
  },
  "interpreter": {
   "hash": "8d05a2600b1395329fdf4d31c97ba20cdd260ad88fc71d79bbc3e3c6d85b9db2"
  }
 },
 "nbformat": 4,
 "nbformat_minor": 2
}